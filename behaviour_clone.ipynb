{
 "cells": [
  {
   "cell_type": "code",
   "execution_count": 1,
   "metadata": {},
   "outputs": [],
   "source": [
    "import gym\n",
    "import torch\n",
    "import torch.nn.functional as F\n",
    "import torch.nn as nn\n",
    "import numpy as np\n",
    "import matplotlib.pyplot as plt\n",
    "from tqdm import tqdm\n",
    "import random\n",
    "import rl_utils\n",
    "from datetime import datetime"
   ]
  },
  {
   "cell_type": "code",
   "execution_count": 2,
   "metadata": {},
   "outputs": [
    {
     "name": "stderr",
     "output_type": "stream",
     "text": [
      "进度条: 100%|██████████| 20000/20000 [02:34<00:00, 129.08it/s]\n"
     ]
    },
    {
     "name": "stdout",
     "output_type": "stream",
     "text": [
      "3889677\n"
     ]
    }
   ],
   "source": [
    "from SheepDogEnv import SheepDogEnv\n",
    "\n",
    "\n",
    "def sample_expert_data(n_episode):\n",
    "    states = []\n",
    "    actions = []\n",
    "    with tqdm(total=n_episode, desc=\"进度条\") as pbar:\n",
    "        for i in range(n_episode):\n",
    "            done = False\n",
    "            while not done:\n",
    "                _st = env._get_obs_array()\n",
    "                L1 = _st[0]\n",
    "                L2 = env.circle_R\n",
    "                theta1 = env.sheep_polar_coor[1]\n",
    "                theta2 = env.dog_theta[0]\n",
    "                if(L1**2 + L2**2 - 2*L1*L2*np.cos(theta2-theta1)) < 0:\n",
    "                    break\n",
    "                L3 = np.sqrt(L1**2 + L2**2 - 2*L1*L2*np.cos(theta2-theta1))\n",
    "                if(L3 == 0):\n",
    "                    break\n",
    "                theta3 = np.arcsin(L2/L3*np.sin(theta2-theta1))\n",
    "                if(np.abs(theta2-theta1) < np.arccos(L1/L2)):\n",
    "                    theta3 = np.pi/2 if theta3 > 0 else -np.pi/2\n",
    "                action = theta3\n",
    "\n",
    "                # if(np.abs(_st[3]/env.dog_theta_v) > (env.circle_R-_st[0])/env.sheep_v + 1):\n",
    "                #     action = 0\n",
    "\n",
    "                _st[0] /= env.circle_R\n",
    "                states.append(_st)\n",
    "                actions.append(action)\n",
    "                _, _, done, _, _ = env.step(action)\n",
    "                # print(i, _st, action)\n",
    "            pbar.update(1)\n",
    "            env.reset()\n",
    "            env.sheep_polar_coor = np.array(\n",
    "                [np.random.randint(env.sheep_v, env.circle_R-1), np.random.random()*np.pi*2])\n",
    "            env.dog_theta = np.array(\n",
    "                [env.sheep_polar_coor[1]+np.pi/2+np.pi*np.random.random()])\n",
    "    return np.array(states), np.array(actions)\n",
    "\n",
    "\n",
    "env = SheepDogEnv(circle_R=350, sheep_v=30, dog_v=80,\n",
    "                  sec_split_n=5, store_mode=False, render_mode=False)\n",
    "\n",
    "random.seed(0)\n",
    "n_episode = 20000\n",
    "expert_s, expert_a = sample_expert_data(n_episode)\n",
    "\n",
    "print(len(expert_s))\n",
    "# n_samples = 30  # 采样30个数据\n",
    "# random_index = random.sample(range(expert_s.shape[0]), n_samples)\n",
    "# expert_s = expert_s[random_index]\n",
    "# expert_a = expert_a[random_index]\n"
   ]
  },
  {
   "cell_type": "code",
   "execution_count": 55,
   "metadata": {},
   "outputs": [
    {
     "name": "stdout",
     "output_type": "stream",
     "text": [
      "1135509\n"
     ]
    }
   ],
   "source": [
    "# index = expert_s[:,3]!=0\n",
    "\n",
    "# print(len(expert_s))\n",
    "# expert_a=expert_a[index]\n",
    "# expert_s=expert_s[index]\n",
    "print(len(expert_s))\n",
    "\n",
    "np.save(\"expert_a-{}.npy\".format(str(datetime.now().strftime(\"%Y-%m-%d-%H-%M-%S\"))),expert_a)\n",
    "np.save(\"expert_s-{}.npy\".format(str(datetime.now().strftime(\"%Y-%m-%d-%H-%M-%S\"))),expert_s)"
   ]
  },
  {
   "cell_type": "code",
   "execution_count": 38,
   "metadata": {},
   "outputs": [
    {
     "name": "stdout",
     "output_type": "stream",
     "text": [
      "10388787 10388788\n"
     ]
    }
   ],
   "source": [
    "import os\n",
    "\n",
    "def list_files_with_prefix(directory, prefix):\n",
    "    file_list = [file for file in os.listdir(directory) if file.startswith(prefix)]\n",
    "    return file_list\n",
    "\n",
    "expert_s_files = list_files_with_prefix('./', 'expert_s')\n",
    "expert_a_files = list_files_with_prefix('./', 'expert_a')\n",
    "\n",
    "# expert_s=np.array([[0,0,0,0]])\n",
    "# expert_a=np.array([])\n",
    "for expert_s_file in  expert_s_files:\n",
    "    tmp_expert_s=np.load(expert_s_file)\n",
    "    expert_s=np.concatenate((expert_s,tmp_expert_s),axis=0)\n",
    "# expert_s=expert_s[1:]\n",
    "for expert_a_file in  expert_a_files:\n",
    "    tmp_expert_a=np.load(expert_a_file)\n",
    "    expert_a=np.concatenate((expert_a,tmp_expert_a),axis=0)\n",
    "\n",
    "print(len(expert_s),len(expert_a))"
   ]
  },
  {
   "cell_type": "code",
   "execution_count": 21,
   "metadata": {},
   "outputs": [],
   "source": [
    "expert_s=expert_s[:,[0,3]]"
   ]
  },
  {
   "cell_type": "markdown",
   "metadata": {},
   "source": []
  },
  {
   "cell_type": "code",
   "execution_count": 3,
   "metadata": {},
   "outputs": [],
   "source": [
    "class PolicyNet(torch.nn.Module):\n",
    "    def __init__(self, state_dim, hidden_dim, action_dim):\n",
    "        super(PolicyNet, self).__init__()\n",
    "        self.fc1 = torch.nn.Linear(state_dim, hidden_dim)\n",
    "        self.fc2 = torch.nn.Linear(hidden_dim, hidden_dim)\n",
    "        self.fc3 = torch.nn.Linear(hidden_dim, action_dim)\n",
    "\n",
    "    def forward(self, x):\n",
    "        x = torch.tanh(self.fc1(x))\n",
    "        x = torch.tanh(self.fc2(x))\n",
    "        x = np.pi/2*torch.tanh(self.fc3(x))\n",
    "        return x\n",
    "device = torch.device(\"cuda\") if torch.cuda.is_available() else torch.device(\n",
    "    \"cpu\")"
   ]
  },
  {
   "cell_type": "code",
   "execution_count": 22,
   "metadata": {},
   "outputs": [
    {
     "name": "stderr",
     "output_type": "stream",
     "text": [
      "进度条:  45%|████▌     | 9098/20000 [00:13<00:17, 638.13it/s]C:\\Users\\77016\\AppData\\Local\\Temp\\ipykernel_24300\\3588853854.py:21: UserWarning: Creating a tensor from a list of numpy.ndarrays is extremely slow. Please consider converting the list to a single numpy.ndarray with numpy.array() before converting to a tensor. (Triggered internally at  ..\\torch\\csrc\\utils\\tensor_new.cpp:204.)\n",
      "  state = torch.tensor([state], dtype=torch.float).to(device)\n",
      "进度条:  46%|████▌     | 9162/20000 [00:14<00:58, 183.85it/s]"
     ]
    },
    {
     "name": "stdout",
     "output_type": "stream",
     "text": [
      "sheep has been catched: 25/0,init_states: \n"
     ]
    },
    {
     "name": "stderr",
     "output_type": "stream",
     "text": [
      "进度条:  46%|████▋     | 9262/20000 [00:15<01:14, 143.64it/s]"
     ]
    },
    {
     "name": "stdout",
     "output_type": "stream",
     "text": [
      "sheep has been catched: 25/0,init_states: \n"
     ]
    },
    {
     "name": "stderr",
     "output_type": "stream",
     "text": [
      "进度条:  47%|████▋     | 9361/20000 [00:16<01:23, 127.17it/s]"
     ]
    },
    {
     "name": "stdout",
     "output_type": "stream",
     "text": [
      "sheep has been catched: 25/0,init_states: \n"
     ]
    },
    {
     "name": "stderr",
     "output_type": "stream",
     "text": [
      "进度条:  47%|████▋     | 9461/20000 [00:17<01:25, 123.59it/s]"
     ]
    },
    {
     "name": "stdout",
     "output_type": "stream",
     "text": [
      "sheep has been catched: 25/0,init_states: \n"
     ]
    },
    {
     "name": "stderr",
     "output_type": "stream",
     "text": [
      "进度条:  48%|████▊     | 9558/20000 [00:18<01:27, 119.85it/s]"
     ]
    },
    {
     "name": "stdout",
     "output_type": "stream",
     "text": [
      "sheep has been catched: 25/0,init_states: \n"
     ]
    },
    {
     "name": "stderr",
     "output_type": "stream",
     "text": [
      "进度条:  48%|████▊     | 9658/20000 [00:19<01:26, 119.27it/s]"
     ]
    },
    {
     "name": "stdout",
     "output_type": "stream",
     "text": [
      "sheep has been catched: 25/0,init_states: \n"
     ]
    },
    {
     "name": "stderr",
     "output_type": "stream",
     "text": [
      "进度条:  49%|████▉     | 9754/20000 [00:20<01:29, 115.06it/s]"
     ]
    },
    {
     "name": "stdout",
     "output_type": "stream",
     "text": [
      "sheep has been catched: 25/0,init_states: \n"
     ]
    },
    {
     "name": "stderr",
     "output_type": "stream",
     "text": [
      "进度条:  49%|████▉     | 9861/20000 [00:21<01:23, 121.20it/s]"
     ]
    },
    {
     "name": "stdout",
     "output_type": "stream",
     "text": [
      "sheep has been catched: 25/0,init_states: \n"
     ]
    },
    {
     "name": "stderr",
     "output_type": "stream",
     "text": [
      "进度条:  50%|████▉     | 9959/20000 [00:22<01:24, 119.44it/s]"
     ]
    },
    {
     "name": "stdout",
     "output_type": "stream",
     "text": [
      "sheep has been catched: 25/0,init_states: \n"
     ]
    },
    {
     "name": "stderr",
     "output_type": "stream",
     "text": [
      "进度条:  50%|█████     | 10067/20000 [00:23<01:15, 131.30it/s]"
     ]
    },
    {
     "name": "stdout",
     "output_type": "stream",
     "text": [
      "sheep has been catched: 25/0,init_states: \n"
     ]
    },
    {
     "name": "stderr",
     "output_type": "stream",
     "text": [
      "进度条:  51%|█████     | 10174/20000 [00:24<01:10, 138.66it/s]"
     ]
    },
    {
     "name": "stdout",
     "output_type": "stream",
     "text": [
      "sheep has been catched: 25/0,init_states: \n"
     ]
    },
    {
     "name": "stderr",
     "output_type": "stream",
     "text": [
      "进度条:  51%|█████▏    | 10273/20000 [00:25<01:14, 130.75it/s]"
     ]
    },
    {
     "name": "stdout",
     "output_type": "stream",
     "text": [
      "sheep has been catched: 25/0,init_states: \n"
     ]
    },
    {
     "name": "stderr",
     "output_type": "stream",
     "text": [
      "进度条:  52%|█████▏    | 10381/20000 [00:26<01:13, 130.05it/s]"
     ]
    },
    {
     "name": "stdout",
     "output_type": "stream",
     "text": [
      "sheep has been catched: 25/0,init_states: \n"
     ]
    },
    {
     "name": "stderr",
     "output_type": "stream",
     "text": [
      "进度条:  52%|█████▏    | 10479/20000 [00:27<01:19, 120.09it/s]"
     ]
    },
    {
     "name": "stdout",
     "output_type": "stream",
     "text": [
      "sheep has been catched: 25/0,init_states: \n"
     ]
    },
    {
     "name": "stderr",
     "output_type": "stream",
     "text": [
      "进度条:  53%|█████▎    | 10575/20000 [00:28<01:20, 117.36it/s]"
     ]
    },
    {
     "name": "stdout",
     "output_type": "stream",
     "text": [
      "sheep has been catched: 25/0,init_states: \n"
     ]
    },
    {
     "name": "stderr",
     "output_type": "stream",
     "text": [
      "进度条:  53%|█████▎    | 10671/20000 [00:29<01:19, 116.80it/s]"
     ]
    },
    {
     "name": "stdout",
     "output_type": "stream",
     "text": [
      "sheep has been catched: 25/0,init_states: \n"
     ]
    },
    {
     "name": "stderr",
     "output_type": "stream",
     "text": [
      "进度条:  54%|█████▍    | 10778/20000 [00:30<01:12, 127.14it/s]"
     ]
    },
    {
     "name": "stdout",
     "output_type": "stream",
     "text": [
      "sheep has been catched: 25/0,init_states: \n"
     ]
    },
    {
     "name": "stderr",
     "output_type": "stream",
     "text": [
      "进度条:  54%|█████▍    | 10885/20000 [00:31<01:08, 132.75it/s]"
     ]
    },
    {
     "name": "stdout",
     "output_type": "stream",
     "text": [
      "sheep has been catched: 25/0,init_states: \n"
     ]
    },
    {
     "name": "stderr",
     "output_type": "stream",
     "text": [
      "进度条:  55%|█████▍    | 10987/20000 [00:32<01:07, 132.63it/s]"
     ]
    },
    {
     "name": "stdout",
     "output_type": "stream",
     "text": [
      "sheep has been catched: 25/0,init_states: \n"
     ]
    },
    {
     "name": "stderr",
     "output_type": "stream",
     "text": [
      "进度条:  55%|█████▌    | 11091/20000 [00:33<01:06, 134.59it/s]"
     ]
    },
    {
     "name": "stdout",
     "output_type": "stream",
     "text": [
      "sheep has been catched: 25/0,init_states: \n"
     ]
    },
    {
     "name": "stderr",
     "output_type": "stream",
     "text": [
      "进度条:  56%|█████▌    | 11192/20000 [00:34<01:08, 129.18it/s]"
     ]
    },
    {
     "name": "stdout",
     "output_type": "stream",
     "text": [
      "sheep has been catched: 25/0,init_states: \n"
     ]
    },
    {
     "name": "stderr",
     "output_type": "stream",
     "text": [
      "进度条:  56%|█████▋    | 11291/20000 [00:35<01:12, 120.50it/s]"
     ]
    },
    {
     "name": "stdout",
     "output_type": "stream",
     "text": [
      "sheep has been catched: 25/0,init_states: \n"
     ]
    },
    {
     "name": "stderr",
     "output_type": "stream",
     "text": [
      "进度条:  57%|█████▋    | 11385/20000 [00:36<01:15, 113.71it/s]"
     ]
    },
    {
     "name": "stdout",
     "output_type": "stream",
     "text": [
      "sheep has been catched: 25/0,init_states: \n"
     ]
    },
    {
     "name": "stderr",
     "output_type": "stream",
     "text": [
      "进度条:  57%|█████▋    | 11483/20000 [00:37<01:14, 113.89it/s]"
     ]
    },
    {
     "name": "stdout",
     "output_type": "stream",
     "text": [
      "sheep has been catched: 25/0,init_states: \n"
     ]
    },
    {
     "name": "stderr",
     "output_type": "stream",
     "text": [
      "进度条:  58%|█████▊    | 11582/20000 [00:38<01:13, 114.69it/s]"
     ]
    },
    {
     "name": "stdout",
     "output_type": "stream",
     "text": [
      "sheep has been catched: 25/0,init_states: \n"
     ]
    },
    {
     "name": "stderr",
     "output_type": "stream",
     "text": [
      "进度条:  58%|█████▊    | 11682/20000 [00:39<01:12, 114.43it/s]"
     ]
    },
    {
     "name": "stdout",
     "output_type": "stream",
     "text": [
      "sheep has been catched: 25/0,init_states: \n"
     ]
    },
    {
     "name": "stderr",
     "output_type": "stream",
     "text": [
      "进度条:  59%|█████▉    | 11768/20000 [00:40<01:17, 106.46it/s]"
     ]
    },
    {
     "name": "stdout",
     "output_type": "stream",
     "text": [
      "sheep has been catched: 25/0,init_states: \n"
     ]
    },
    {
     "name": "stderr",
     "output_type": "stream",
     "text": [
      "进度条:  59%|█████▉    | 11856/20000 [00:41<01:18, 103.21it/s]"
     ]
    },
    {
     "name": "stdout",
     "output_type": "stream",
     "text": [
      "sheep has been catched: 25/0,init_states: \n"
     ]
    },
    {
     "name": "stderr",
     "output_type": "stream",
     "text": [
      "进度条:  60%|█████▉    | 11959/20000 [00:42<01:13, 109.97it/s]"
     ]
    },
    {
     "name": "stdout",
     "output_type": "stream",
     "text": [
      "sheep has been catched: 25/0,init_states: \n"
     ]
    },
    {
     "name": "stderr",
     "output_type": "stream",
     "text": [
      "进度条:  60%|██████    | 12066/20000 [00:43<01:05, 122.06it/s]"
     ]
    },
    {
     "name": "stdout",
     "output_type": "stream",
     "text": [
      "sheep has been catched: 25/0,init_states: \n"
     ]
    },
    {
     "name": "stderr",
     "output_type": "stream",
     "text": [
      "进度条:  61%|██████    | 12172/20000 [00:44<00:59, 130.52it/s]"
     ]
    },
    {
     "name": "stdout",
     "output_type": "stream",
     "text": [
      "sheep has been catched: 25/0,init_states: \n"
     ]
    },
    {
     "name": "stderr",
     "output_type": "stream",
     "text": [
      "进度条:  61%|██████▏   | 12273/20000 [00:45<01:00, 127.02it/s]"
     ]
    },
    {
     "name": "stdout",
     "output_type": "stream",
     "text": [
      "sheep has been catched: 25/0,init_states: \n"
     ]
    },
    {
     "name": "stderr",
     "output_type": "stream",
     "text": [
      "进度条:  62%|██████▏   | 12365/20000 [00:46<01:09, 109.56it/s]"
     ]
    },
    {
     "name": "stdout",
     "output_type": "stream",
     "text": [
      "sheep has been catched: 25/0,init_states: \n"
     ]
    },
    {
     "name": "stderr",
     "output_type": "stream",
     "text": [
      "进度条:  62%|██████▏   | 12459/20000 [00:47<01:08, 110.53it/s]"
     ]
    },
    {
     "name": "stdout",
     "output_type": "stream",
     "text": [
      "sheep has been catched: 25/0,init_states: \n"
     ]
    },
    {
     "name": "stderr",
     "output_type": "stream",
     "text": [
      "进度条:  63%|██████▎   | 12568/20000 [00:48<01:01, 121.70it/s]"
     ]
    },
    {
     "name": "stdout",
     "output_type": "stream",
     "text": [
      "sheep has been catched: 25/0,init_states: \n"
     ]
    },
    {
     "name": "stderr",
     "output_type": "stream",
     "text": [
      "进度条:  63%|██████▎   | 12674/20000 [00:49<00:56, 129.48it/s]"
     ]
    },
    {
     "name": "stdout",
     "output_type": "stream",
     "text": [
      "sheep has been catched: 25/0,init_states: \n"
     ]
    },
    {
     "name": "stderr",
     "output_type": "stream",
     "text": [
      "进度条:  64%|██████▍   | 12781/20000 [00:50<00:54, 132.05it/s]"
     ]
    },
    {
     "name": "stdout",
     "output_type": "stream",
     "text": [
      "sheep has been catched: 25/0,init_states: \n"
     ]
    },
    {
     "name": "stderr",
     "output_type": "stream",
     "text": [
      "进度条:  64%|██████▍   | 12883/20000 [00:51<00:58, 120.77it/s]"
     ]
    },
    {
     "name": "stdout",
     "output_type": "stream",
     "text": [
      "sheep has been catched: 25/0,init_states: \n"
     ]
    },
    {
     "name": "stderr",
     "output_type": "stream",
     "text": [
      "进度条:  65%|██████▍   | 12979/20000 [00:53<01:01, 114.08it/s]"
     ]
    },
    {
     "name": "stdout",
     "output_type": "stream",
     "text": [
      "sheep has been catched: 25/0,init_states: \n"
     ]
    },
    {
     "name": "stderr",
     "output_type": "stream",
     "text": [
      "进度条:  65%|██████▌   | 13078/20000 [00:54<01:00, 114.26it/s]"
     ]
    },
    {
     "name": "stdout",
     "output_type": "stream",
     "text": [
      "sheep has been catched: 25/0,init_states: \n"
     ]
    },
    {
     "name": "stderr",
     "output_type": "stream",
     "text": [
      "进度条:  66%|██████▌   | 13179/20000 [00:55<00:59, 113.82it/s]"
     ]
    },
    {
     "name": "stdout",
     "output_type": "stream",
     "text": [
      "sheep has been catched: 25/0,init_states: \n"
     ]
    },
    {
     "name": "stderr",
     "output_type": "stream",
     "text": [
      "进度条:  66%|██████▋   | 13278/20000 [00:56<01:00, 111.66it/s]"
     ]
    },
    {
     "name": "stdout",
     "output_type": "stream",
     "text": [
      "sheep has been catched: 25/0,init_states: \n"
     ]
    },
    {
     "name": "stderr",
     "output_type": "stream",
     "text": [
      "进度条:  67%|██████▋   | 13373/20000 [00:57<01:01, 108.32it/s]"
     ]
    },
    {
     "name": "stdout",
     "output_type": "stream",
     "text": [
      "sheep has been catched: 25/0,init_states: \n"
     ]
    },
    {
     "name": "stderr",
     "output_type": "stream",
     "text": [
      "进度条:  67%|██████▋   | 13473/20000 [00:58<00:58, 110.75it/s]"
     ]
    },
    {
     "name": "stdout",
     "output_type": "stream",
     "text": [
      "sheep has been catched: 25/0,init_states: \n"
     ]
    },
    {
     "name": "stderr",
     "output_type": "stream",
     "text": [
      "进度条:  68%|██████▊   | 13567/20000 [00:59<00:59, 107.33it/s]"
     ]
    },
    {
     "name": "stdout",
     "output_type": "stream",
     "text": [
      "sheep has been catched: 25/0,init_states: \n"
     ]
    },
    {
     "name": "stderr",
     "output_type": "stream",
     "text": [
      "进度条:  68%|██████▊   | 13665/20000 [01:00<00:59, 106.75it/s]"
     ]
    },
    {
     "name": "stdout",
     "output_type": "stream",
     "text": [
      "sheep has been catched: 25/0,init_states: \n"
     ]
    },
    {
     "name": "stderr",
     "output_type": "stream",
     "text": [
      "进度条:  69%|██████▉   | 13764/20000 [01:01<00:58, 106.85it/s]"
     ]
    },
    {
     "name": "stdout",
     "output_type": "stream",
     "text": [
      "sheep has been catched: 25/0,init_states: \n"
     ]
    },
    {
     "name": "stderr",
     "output_type": "stream",
     "text": [
      "进度条:  69%|██████▉   | 13865/20000 [01:02<00:56, 108.67it/s]"
     ]
    },
    {
     "name": "stdout",
     "output_type": "stream",
     "text": [
      "sheep has been catched: 25/0,init_states: \n"
     ]
    },
    {
     "name": "stderr",
     "output_type": "stream",
     "text": [
      "进度条:  70%|██████▉   | 13966/20000 [01:04<00:56, 107.46it/s]"
     ]
    },
    {
     "name": "stdout",
     "output_type": "stream",
     "text": [
      "sheep has been catched: 25/0,init_states: \n"
     ]
    },
    {
     "name": "stderr",
     "output_type": "stream",
     "text": [
      "进度条:  70%|███████   | 14064/20000 [01:05<00:56, 104.22it/s]"
     ]
    },
    {
     "name": "stdout",
     "output_type": "stream",
     "text": [
      "sheep has been catched: 25/0,init_states: \n"
     ]
    },
    {
     "name": "stderr",
     "output_type": "stream",
     "text": [
      "进度条:  71%|███████   | 14159/20000 [01:06<00:57, 101.33it/s]"
     ]
    },
    {
     "name": "stdout",
     "output_type": "stream",
     "text": [
      "sheep has been catched: 25/1,init_states: (6.183185307179587, 0)\n"
     ]
    },
    {
     "name": "stderr",
     "output_type": "stream",
     "text": [
      "进度条:  71%|███████▏  | 14260/20000 [01:07<00:58, 98.96it/s] "
     ]
    },
    {
     "name": "stdout",
     "output_type": "stream",
     "text": [
      "sheep has been catched: 25/1,init_states: (6.183185307179587, 0)\n"
     ]
    },
    {
     "name": "stderr",
     "output_type": "stream",
     "text": [
      "进度条:  72%|███████▏  | 14356/20000 [01:08<00:56, 99.60it/s]"
     ]
    },
    {
     "name": "stdout",
     "output_type": "stream",
     "text": [
      "sheep has been catched: 25/1,init_states: (6.183185307179587, 0)\n"
     ]
    },
    {
     "name": "stderr",
     "output_type": "stream",
     "text": [
      "进度条:  72%|███████▏  | 14467/20000 [01:09<00:49, 110.86it/s]"
     ]
    },
    {
     "name": "stdout",
     "output_type": "stream",
     "text": [
      "sheep has been catched: 25/1,init_states: (6.183185307179587, 0)\n"
     ]
    },
    {
     "name": "stderr",
     "output_type": "stream",
     "text": [
      "进度条:  73%|███████▎  | 14574/20000 [01:11<00:46, 117.08it/s]"
     ]
    },
    {
     "name": "stdout",
     "output_type": "stream",
     "text": [
      "sheep has been catched: 25/6,init_states: (0, 0),(1.7, 1.7),(3.141592653589793, 3.141592653589793),(4.5, 4.5),(6.183185307179587, 0),(6.183185307179587, 6.183185307179587)\n"
     ]
    },
    {
     "name": "stderr",
     "output_type": "stream",
     "text": [
      "进度条:  73%|███████▎  | 14674/20000 [01:12<00:46, 113.39it/s]"
     ]
    },
    {
     "name": "stdout",
     "output_type": "stream",
     "text": [
      "sheep has been catched: 25/7,init_states: (0, 0),(0, 6.183185307179587),(1.7, 1.7),(3.141592653589793, 3.141592653589793),(4.5, 4.5),(6.183185307179587, 0),(6.183185307179587, 6.183185307179587)\n"
     ]
    },
    {
     "name": "stderr",
     "output_type": "stream",
     "text": [
      "进度条:  74%|███████▍  | 14779/20000 [01:13<00:45, 114.69it/s]"
     ]
    },
    {
     "name": "stdout",
     "output_type": "stream",
     "text": [
      "sheep has been catched: 25/6,init_states: (0, 0),(1.7, 1.7),(3.141592653589793, 3.141592653589793),(4.5, 4.5),(6.183185307179587, 0),(6.183185307179587, 6.183185307179587)\n"
     ]
    },
    {
     "name": "stderr",
     "output_type": "stream",
     "text": [
      "进度条:  74%|███████▍  | 14875/20000 [01:14<00:49, 103.99it/s]"
     ]
    },
    {
     "name": "stdout",
     "output_type": "stream",
     "text": [
      "sheep has been catched: 25/7,init_states: (0, 0),(0, 6.183185307179587),(1.7, 1.7),(3.141592653589793, 3.141592653589793),(4.5, 4.5),(6.183185307179587, 0),(6.183185307179587, 6.183185307179587)\n"
     ]
    },
    {
     "name": "stderr",
     "output_type": "stream",
     "text": [
      "进度条:  75%|███████▍  | 14971/20000 [01:15<00:51, 96.87it/s] "
     ]
    },
    {
     "name": "stdout",
     "output_type": "stream",
     "text": [
      "sheep has been catched: 25/7,init_states: (0, 0),(0, 6.183185307179587),(1.7, 1.7),(3.141592653589793, 3.141592653589793),(4.5, 4.5),(6.183185307179587, 0),(6.183185307179587, 6.183185307179587)\n"
     ]
    },
    {
     "name": "stderr",
     "output_type": "stream",
     "text": [
      "进度条:  75%|███████▌  | 15069/20000 [01:16<00:49, 99.60it/s]"
     ]
    },
    {
     "name": "stdout",
     "output_type": "stream",
     "text": [
      "sheep has been catched: 25/7,init_states: (0, 0),(0, 6.183185307179587),(1.7, 1.7),(3.141592653589793, 3.141592653589793),(4.5, 4.5),(6.183185307179587, 0),(6.183185307179587, 6.183185307179587)\n"
     ]
    },
    {
     "name": "stderr",
     "output_type": "stream",
     "text": [
      "进度条:  76%|███████▌  | 15162/20000 [01:18<00:51, 94.50it/s]"
     ]
    },
    {
     "name": "stdout",
     "output_type": "stream",
     "text": [
      "sheep has been catched: 25/7,init_states: (0, 0),(0, 6.183185307179587),(1.7, 1.7),(3.141592653589793, 3.141592653589793),(4.5, 4.5),(6.183185307179587, 0),(6.183185307179587, 6.183185307179587)\n"
     ]
    },
    {
     "name": "stderr",
     "output_type": "stream",
     "text": [
      "进度条:  76%|███████▋  | 15259/20000 [01:19<00:50, 93.96it/s]"
     ]
    },
    {
     "name": "stdout",
     "output_type": "stream",
     "text": [
      "sheep has been catched: 25/7,init_states: (0, 0),(0, 6.183185307179587),(1.7, 1.7),(3.141592653589793, 3.141592653589793),(4.5, 4.5),(6.183185307179587, 0),(6.183185307179587, 6.183185307179587)\n"
     ]
    },
    {
     "name": "stderr",
     "output_type": "stream",
     "text": [
      "进度条:  77%|███████▋  | 15354/20000 [01:20<00:50, 91.20it/s]"
     ]
    },
    {
     "name": "stdout",
     "output_type": "stream",
     "text": [
      "sheep has been catched: 25/8,init_states: (0, 0),(0, 6.183185307179587),(1.7, 1.7),(3.141592653589793, 1.7),(3.141592653589793, 3.141592653589793),(4.5, 4.5),(6.183185307179587, 0),(6.183185307179587, 6.183185307179587)\n"
     ]
    },
    {
     "name": "stderr",
     "output_type": "stream",
     "text": [
      "进度条:  77%|███████▋  | 15463/20000 [01:22<00:48, 94.22it/s]"
     ]
    },
    {
     "name": "stdout",
     "output_type": "stream",
     "text": [
      "sheep has been catched: 25/9,init_states: (0, 0),(0, 6.183185307179587),(1.7, 1.7),(3.141592653589793, 1.7),(3.141592653589793, 3.141592653589793),(4.5, 3.141592653589793),(4.5, 4.5),(6.183185307179587, 0),(6.183185307179587, 6.183185307179587)\n"
     ]
    },
    {
     "name": "stderr",
     "output_type": "stream",
     "text": [
      "进度条:  78%|███████▊  | 15564/20000 [01:23<00:43, 102.44it/s]"
     ]
    },
    {
     "name": "stdout",
     "output_type": "stream",
     "text": [
      "sheep has been catched: 25/13,init_states: (0, 0),(0, 4.5),(0, 6.183185307179587),(1.7, 0),(1.7, 1.7),(1.7, 6.183185307179587),(3.141592653589793, 1.7),(3.141592653589793, 3.141592653589793),(4.5, 3.141592653589793),(4.5, 4.5),(6.183185307179587, 0),(6.183185307179587, 4.5),(6.183185307179587, 6.183185307179587)\n"
     ]
    },
    {
     "name": "stderr",
     "output_type": "stream",
     "text": [
      "进度条:  78%|███████▊  | 15663/20000 [01:24<00:40, 105.84it/s]"
     ]
    },
    {
     "name": "stdout",
     "output_type": "stream",
     "text": [
      "sheep has been catched: 25/13,init_states: (0, 0),(0, 4.5),(0, 6.183185307179587),(1.7, 0),(1.7, 1.7),(1.7, 6.183185307179587),(3.141592653589793, 1.7),(3.141592653589793, 3.141592653589793),(4.5, 3.141592653589793),(4.5, 4.5),(6.183185307179587, 0),(6.183185307179587, 4.5),(6.183185307179587, 6.183185307179587)\n"
     ]
    },
    {
     "name": "stderr",
     "output_type": "stream",
     "text": [
      "进度条:  79%|███████▉  | 15758/20000 [01:25<00:41, 101.65it/s]"
     ]
    },
    {
     "name": "stdout",
     "output_type": "stream",
     "text": [
      "sheep has been catched: 25/13,init_states: (0, 0),(0, 4.5),(0, 6.183185307179587),(1.7, 0),(1.7, 1.7),(1.7, 6.183185307179587),(3.141592653589793, 1.7),(3.141592653589793, 3.141592653589793),(4.5, 3.141592653589793),(4.5, 4.5),(6.183185307179587, 0),(6.183185307179587, 4.5),(6.183185307179587, 6.183185307179587)\n"
     ]
    },
    {
     "name": "stderr",
     "output_type": "stream",
     "text": [
      "进度条:  79%|███████▉  | 15850/20000 [01:26<00:44, 92.35it/s] "
     ]
    },
    {
     "name": "stdout",
     "output_type": "stream",
     "text": [
      "sheep has been catched: 25/13,init_states: (0, 0),(0, 4.5),(0, 6.183185307179587),(1.7, 0),(1.7, 1.7),(1.7, 6.183185307179587),(3.141592653589793, 1.7),(3.141592653589793, 3.141592653589793),(4.5, 3.141592653589793),(4.5, 4.5),(6.183185307179587, 0),(6.183185307179587, 4.5),(6.183185307179587, 6.183185307179587)\n"
     ]
    },
    {
     "name": "stderr",
     "output_type": "stream",
     "text": [
      "进度条:  80%|███████▉  | 15954/20000 [01:28<00:43, 93.55it/s]"
     ]
    },
    {
     "name": "stdout",
     "output_type": "stream",
     "text": [
      "sheep has been catched: 25/13,init_states: (0, 0),(0, 4.5),(0, 6.183185307179587),(1.7, 0),(1.7, 1.7),(1.7, 6.183185307179587),(3.141592653589793, 1.7),(3.141592653589793, 3.141592653589793),(4.5, 3.141592653589793),(4.5, 4.5),(6.183185307179587, 0),(6.183185307179587, 4.5),(6.183185307179587, 6.183185307179587)\n"
     ]
    },
    {
     "name": "stderr",
     "output_type": "stream",
     "text": [
      "进度条:  80%|███████▉  | 15999/20000 [01:28<00:22, 180.99it/s]\n"
     ]
    },
    {
     "ename": "KeyboardInterrupt",
     "evalue": "",
     "output_type": "error",
     "traceback": [
      "\u001b[1;31m---------------------------------------------------------------------------\u001b[0m",
      "\u001b[1;31mKeyboardInterrupt\u001b[0m                         Traceback (most recent call last)",
      "Cell \u001b[1;32mIn[22], line 79\u001b[0m\n\u001b[0;32m     77\u001b[0m bc_agent\u001b[39m.\u001b[39mlearn(expert_s[sample_indices], expert_a[sample_indices])\n\u001b[0;32m     78\u001b[0m \u001b[39mif\u001b[39;00m i \u001b[39m>\u001b[39m \u001b[39m9000\u001b[39m \u001b[39mand\u001b[39;00m (i\u001b[39m+\u001b[39m\u001b[39m1\u001b[39m) \u001b[39m%\u001b[39m \u001b[39m100\u001b[39m \u001b[39m==\u001b[39m \u001b[39m0\u001b[39m:\n\u001b[1;32m---> 79\u001b[0m     current_return \u001b[39m=\u001b[39m test_agent(bc_agent, env, \u001b[39m5\u001b[39;49m)\n\u001b[0;32m     80\u001b[0m     test_returns\u001b[39m.\u001b[39mappend(current_return)\n\u001b[0;32m     81\u001b[0m     \u001b[39m# if (i + 1) % 100 == 0:\u001b[39;00m\n\u001b[0;32m     82\u001b[0m     \u001b[39m#     pbar.set_postfix(\u001b[39;00m\n\u001b[0;32m     83\u001b[0m     \u001b[39m#         {'return': '%.3f' % np.mean(test_returns[-10:])})\u001b[39;00m\n",
      "Cell \u001b[1;32mIn[22], line 41\u001b[0m, in \u001b[0;36mtest_agent\u001b[1;34m(agent, env, n_episode)\u001b[0m\n\u001b[0;32m     39\u001b[0m _st \u001b[39m=\u001b[39m env\u001b[39m.\u001b[39m_get_obs_array()\n\u001b[0;32m     40\u001b[0m _st[\u001b[39m0\u001b[39m] \u001b[39m/\u001b[39m\u001b[39m=\u001b[39m env\u001b[39m.\u001b[39mcircle_R\n\u001b[1;32m---> 41\u001b[0m action \u001b[39m=\u001b[39m agent\u001b[39m.\u001b[39;49mtake_action(_st[[\u001b[39m0\u001b[39;49m,\u001b[39m3\u001b[39;49m]])[\u001b[39m0\u001b[39m]\n\u001b[0;32m     42\u001b[0m _, reward, done, _, _ \u001b[39m=\u001b[39m env\u001b[39m.\u001b[39mstep(action)\n\u001b[0;32m     43\u001b[0m episode_return \u001b[39m+\u001b[39m\u001b[39m=\u001b[39m reward\n",
      "Cell \u001b[1;32mIn[22], line 21\u001b[0m, in \u001b[0;36mBehaviorClone.take_action\u001b[1;34m(self, state)\u001b[0m\n\u001b[0;32m     20\u001b[0m \u001b[39mdef\u001b[39;00m \u001b[39mtake_action\u001b[39m(\u001b[39mself\u001b[39m, state):\n\u001b[1;32m---> 21\u001b[0m     state \u001b[39m=\u001b[39m torch\u001b[39m.\u001b[39;49mtensor([state], dtype\u001b[39m=\u001b[39;49mtorch\u001b[39m.\u001b[39;49mfloat)\u001b[39m.\u001b[39;49mto(device)\n\u001b[0;32m     22\u001b[0m     action \u001b[39m=\u001b[39m \u001b[39mself\u001b[39m\u001b[39m.\u001b[39mpolicy(state)\u001b[39m.\u001b[39mcpu()\u001b[39m.\u001b[39mdetach()\u001b[39m.\u001b[39mnumpy()\n\u001b[0;32m     23\u001b[0m     \u001b[39mreturn\u001b[39;00m action[\u001b[39m0\u001b[39m]\n",
      "\u001b[1;31mKeyboardInterrupt\u001b[0m: "
     ]
    }
   ],
   "source": [
    "import time\n",
    "\n",
    "\n",
    "class BehaviorClone:\n",
    "    def __init__(self, state_dim, hidden_dim, action_dim, lr):\n",
    "        self.policy = PolicyNet(state_dim, hidden_dim, action_dim).to(device)\n",
    "        self.optimizer = torch.optim.Adam(self.policy.parameters(), lr=lr)\n",
    "\n",
    "    def learn(self, states, actions):\n",
    "        states = torch.tensor(states, dtype=torch.float).to(device)\n",
    "        actions = torch.tensor(\n",
    "            actions, dtype=torch.float).view(-1, 1).to(device)\n",
    "        mse_loss = F.mse_loss(self.policy(states), actions).float()\n",
    "        # print(mse_loss)\n",
    "\n",
    "        self.optimizer.zero_grad()\n",
    "        mse_loss.backward()\n",
    "        self.optimizer.step()\n",
    "\n",
    "    def take_action(self, state):\n",
    "        state = torch.tensor([state], dtype=torch.float).to(device)\n",
    "        action = self.policy(state).cpu().detach().numpy()\n",
    "        return action[0]\n",
    "\n",
    "\n",
    "def test_agent(agent, env, n_episode):\n",
    "    sheep_coor_test = [0, 1.7, np.pi, 4.5, 2*np.pi-0.1]\n",
    "    dog_theta_test = [0, 1.7, np.pi, 4.5, 2*np.pi-0.1]\n",
    "    specific_return_list = []\n",
    "    catched_num = 0\n",
    "    catch_init_state_list=[]\n",
    "    for s in sheep_coor_test:\n",
    "        for d in dog_theta_test:\n",
    "            env.reset()\n",
    "            env.sheep_polar_coor = np.array([env.sheep_v, s])\n",
    "            env.dog_theta = np.array([d])\n",
    "            episode_return = 0\n",
    "            for i in range(2000):\n",
    "                _st = env._get_obs_array()\n",
    "                _st[0] /= env.circle_R\n",
    "                action = agent.take_action(_st[[0,3]])[0]\n",
    "                _, reward, done, _, _ = env.step(action)\n",
    "                episode_return += reward\n",
    "                # print(_st, action, reward)\n",
    "                if done:\n",
    "                    break\n",
    "            specific_return_list.append(episode_return)\n",
    "            # print(\"s:{},d:{},最终得分：{}\".format(s, d, episode_return))\n",
    "            if reward < -900:\n",
    "                catched_num += 1\n",
    "                catch_init_state_list.append((s,d))\n",
    "    print(\"sheep has been catched: {}/{},init_states: {}\".format(len(sheep_coor_test)\n",
    "          * len(dog_theta_test), catched_num,\",\".join([str(i) for i in catch_init_state_list])))\n",
    "    if(catched_num==0):\n",
    "        torch.save(agent.policy.state_dict(),\"bc-\"+str(datetime.now().strftime(\"%Y-%m-%d-%H-%M-%S\")))\n",
    "    return np.mean(specific_return_list)\n",
    "\n",
    "\n",
    "torch.manual_seed(0)\n",
    "np.random.seed(0)\n",
    "\n",
    "lr = 5e-6\n",
    "env = SheepDogEnv(circle_R=350, sheep_v=30, dog_v=80,\n",
    "                  sec_split_n=5, store_mode=False, render_mode=False)\n",
    "bc_agent = BehaviorClone(\n",
    "    2, 128, env.action_space.shape[0], lr)\n",
    "n_iterations = 20000\n",
    "batch_size = 512\n",
    "test_returns = []\n",
    "\n",
    "with tqdm(total=n_iterations, desc=\"进度条\") as pbar:\n",
    "    for i in range(n_iterations):\n",
    "        sample_indices = np.random.randint(low=0,\n",
    "                                           high=expert_s.shape[0],\n",
    "                                           size=batch_size)\n",
    "        t1 = time.time()\n",
    "        bc_agent.learn(expert_s[sample_indices], expert_a[sample_indices])\n",
    "        if i > 9000 and (i+1) % 100 == 0:\n",
    "            current_return = test_agent(bc_agent, env, 5)\n",
    "            test_returns.append(current_return)\n",
    "            # if (i + 1) % 100 == 0:\n",
    "            #     pbar.set_postfix(\n",
    "            #         {'return': '%.3f' % np.mean(test_returns[-10:])})\n",
    "        pbar.update(1)\n"
   ]
  },
  {
   "cell_type": "code",
   "execution_count": 6,
   "metadata": {},
   "outputs": [
    {
     "name": "stdout",
     "output_type": "stream",
     "text": [
      "s:0,d:0,最终得分：-1324.328041493539\n",
      "s:0,d:1.7,最终得分：613.714447679481\n",
      "s:0,d:3.141592653589793,最终得分：755.8463644482215\n",
      "s:0,d:4.5,最终得分：774.964312341708\n",
      "s:0,d:6.183185307179587,最终得分：756.8657026697047\n",
      "s:1.7,d:0,最终得分：773.0200719665925\n",
      "s:1.7,d:1.7,最终得分：732.752254705843\n",
      "s:1.7,d:3.141592653589793,最终得分：632.8096865214945\n",
      "s:1.7,d:4.5,最终得分：777.4381304789692\n",
      "s:1.7,d:6.183185307179587,最终得分：771.7153007977226\n",
      "s:3.141592653589793,d:0,最终得分：771.8395152019557\n",
      "s:3.141592653589793,d:1.7,最终得分：746.3676194663918\n",
      "s:3.141592653589793,d:3.141592653589793,最终得分：772.5737135569807\n",
      "s:3.141592653589793,d:4.5,最终得分：744.5173100029378\n",
      "s:3.141592653589793,d:6.183185307179587,最终得分：771.821691564696\n",
      "s:4.5,d:0,最终得分：770.7485704354729\n",
      "s:4.5,d:1.7,最终得分：751.5368815301912\n",
      "s:4.5,d:3.141592653589793,最终得分：762.3170737973666\n",
      "s:4.5,d:4.5,最终得分：766.9470525297797\n",
      "s:4.5,d:6.183185307179587,最终得分：770.2244192137242\n",
      "s:6.183185307179587,d:0,最终得分：-1317.9678791263775\n",
      "s:6.183185307179587,d:1.7,最终得分：484.1831442943279\n",
      "s:6.183185307179587,d:3.141592653589793,最终得分：745.6787954158947\n",
      "s:6.183185307179587,d:4.5,最终得分：776.3271813584629\n",
      "s:6.183185307179587,d:6.183185307179587,最终得分：766.9627396533701\n",
      "sheep has been catched: 25/2,init_states: (0, 0),(6.183185307179587, 0)\n"
     ]
    },
    {
     "data": {
      "text/plain": [
       "573.9550423604549"
      ]
     },
     "execution_count": 6,
     "metadata": {},
     "output_type": "execute_result"
    }
   ],
   "source": [
    "def test_agent(agent, env, n_episode):\n",
    "    sheep_coor_test = [0, 1.7, np.pi, 4.5, 2*np.pi-0.1]\n",
    "    dog_theta_test = [0, 1.7, np.pi, 4.5, 2*np.pi-0.1]\n",
    "    specific_return_list = []\n",
    "    catched_num = 0\n",
    "    catch_init_state_list=[]\n",
    "    for s in sheep_coor_test:\n",
    "        for d in dog_theta_test:\n",
    "            env.reset()\n",
    "            env.sheep_polar_coor = np.array([env.sheep_v, s])\n",
    "            env.dog_theta = np.array([d])\n",
    "            episode_return = 0\n",
    "            for i in range(2000):\n",
    "                _st = env._get_obs_array()\n",
    "                _st[0] /= env.circle_R\n",
    "                action = agent.take_action(_st)[0]\n",
    "                _, reward, done, _, _ = env.step(action)\n",
    "                episode_return += reward\n",
    "                # print(_st, action, reward)\n",
    "                if done:\n",
    "                    break\n",
    "            specific_return_list.append(episode_return)\n",
    "            print(\"s:{},d:{},最终得分：{}\".format(s, d, episode_return))\n",
    "            if reward < -900:\n",
    "                catched_num += 1\n",
    "                catch_init_state_list.append((s,d))\n",
    "    print(\"sheep has been catched: {}/{},init_states: {}\".format(len(sheep_coor_test)\n",
    "          * len(dog_theta_test), catched_num,\",\".join([str(i) for i in catch_init_state_list])))\n",
    "    return np.mean(specific_return_list)\n",
    "\n",
    "\n",
    "test_agent(bc_agent, env, 5)\n"
   ]
  },
  {
   "cell_type": "code",
   "execution_count": 15,
   "metadata": {},
   "outputs": [],
   "source": [
    "torch.save(bc_agent.policy.state_dict(),\"bc_network-1\")"
   ]
  },
  {
   "cell_type": "code",
   "execution_count": null,
   "metadata": {},
   "outputs": [],
   "source": []
  },
  {
   "cell_type": "code",
   "execution_count": 80,
   "metadata": {},
   "outputs": [
    {
     "name": "stderr",
     "output_type": "stream",
     "text": [
      "进度条: 100%|██████████| 500/500 [00:29<00:00, 17.03it/s]\n"
     ]
    },
    {
     "name": "stdout",
     "output_type": "stream",
     "text": [
      "743871\n"
     ]
    }
   ],
   "source": [
    "from SheepDogEnv import SheepDogEnv\n",
    "\n",
    "\n",
    "def sample_expert_data(n_episode):\n",
    "    states = []\n",
    "    actions = []\n",
    "    with tqdm(total=n_episode, desc=\"进度条\") as pbar:\n",
    "        for i in range(n_episode):\n",
    "            done = False\n",
    "            while not done:\n",
    "                _st = env._get_obs_array()\n",
    "                L1 = _st[0]\n",
    "                L2 = env.circle_R\n",
    "                theta1 = _st[1]\n",
    "                theta2 = _st[2]\n",
    "                if(L1**2 + L2**2 - 2*L1*L2*np.cos(theta2-theta1))<0:\n",
    "                    break\n",
    "                L3 = np.sqrt(L1**2 + L2**2 - 2*L1*L2*np.cos(theta2-theta1))\n",
    "                if(L3==0):\n",
    "                    break\n",
    "                theta3 = np.arcsin(L2/L3*np.sin(theta2-theta1))\n",
    "                if(np.abs(theta2-theta1) < np.arccos(L1/L2)):\n",
    "                    theta3 = np.pi/2 if theta3 > 0 else -np.pi/2\n",
    "                action = theta3\n",
    "\n",
    "                # if(np.abs(_st[3]/env.dog_theta_v) > (env.circle_R-_st[0])/env.sheep_v + 1):\n",
    "                #     action = 0\n",
    "\n",
    "                _st[0] /= env.circle_R\n",
    "                states.append(_st)\n",
    "                actions.append(action)\n",
    "                _, _, done, _, _ = env.step(action)\n",
    "                # print(i, _st, action)\n",
    "            pbar.update(1)\n",
    "            env.reset()\n",
    "            env.sheep_polar_coor = np.array(\n",
    "                [np.random.randint(env.sheep_v, env.circle_R-1), 0.0])\n",
    "            env.dog_theta = np.array([0])\n",
    "    return np.array(states), np.array(actions)\n",
    "\n",
    "\n",
    "env = SheepDogEnv(circle_R=350, sheep_v=30, dog_v=80,\n",
    "                  sec_split_n=5, store_mode=False, render_mode=False)\n",
    "\n",
    "random.seed(0)\n",
    "n_episode = 500\n",
    "expert_s, expert_a = sample_expert_data(n_episode)\n",
    "\n",
    "print(len(expert_s))\n",
    "# n_samples = 30  # 采样30个数据\n",
    "# random_index = random.sample(range(expert_s.shape[0]), n_samples)\n",
    "# expert_s = expert_s[random_index]\n",
    "# expert_a = expert_a[random_index]\n"
   ]
  },
  {
   "cell_type": "code",
   "execution_count": 81,
   "metadata": {},
   "outputs": [
    {
     "name": "stderr",
     "output_type": "stream",
     "text": [
      "进度条:   0%|          | 0/2000 [00:00<?, ?it/s]"
     ]
    },
    {
     "name": "stdout",
     "output_type": "stream",
     "text": [
      "sheep has been catched: 25/25,init_states: (0, 0),(0, 1.7),(0, 3.141592653589793),(0, 4.5),(0, 6.183185307179587),(1.7, 0),(1.7, 1.7),(1.7, 3.141592653589793),(1.7, 4.5),(1.7, 6.183185307179587),(3.141592653589793, 0),(3.141592653589793, 1.7),(3.141592653589793, 3.141592653589793),(3.141592653589793, 4.5),(3.141592653589793, 6.183185307179587),(4.5, 0),(4.5, 1.7),(4.5, 3.141592653589793),(4.5, 4.5),(4.5, 6.183185307179587),(6.183185307179587, 0),(6.183185307179587, 1.7),(6.183185307179587, 3.141592653589793),(6.183185307179587, 4.5),(6.183185307179587, 6.183185307179587)\n",
      "sheep has been catched: 25/24,init_states: (0, 0),(0, 1.7),(0, 3.141592653589793),(0, 4.5),(0, 6.183185307179587),(1.7, 0),(1.7, 1.7),(1.7, 3.141592653589793),(1.7, 4.5),(1.7, 6.183185307179587),(3.141592653589793, 0),(3.141592653589793, 1.7),(3.141592653589793, 3.141592653589793),(3.141592653589793, 4.5),(3.141592653589793, 6.183185307179587),(4.5, 0),(4.5, 3.141592653589793),(4.5, 4.5),(4.5, 6.183185307179587),(6.183185307179587, 0),(6.183185307179587, 1.7),(6.183185307179587, 3.141592653589793),(6.183185307179587, 4.5),(6.183185307179587, 6.183185307179587)\n",
      "sheep has been catched: 25/25,init_states: (0, 0),(0, 1.7),(0, 3.141592653589793),(0, 4.5),(0, 6.183185307179587),(1.7, 0),(1.7, 1.7),(1.7, 3.141592653589793),(1.7, 4.5),(1.7, 6.183185307179587),(3.141592653589793, 0),(3.141592653589793, 1.7),(3.141592653589793, 3.141592653589793),(3.141592653589793, 4.5),(3.141592653589793, 6.183185307179587),(4.5, 0),(4.5, 1.7),(4.5, 3.141592653589793),(4.5, 4.5),(4.5, 6.183185307179587),(6.183185307179587, 0),(6.183185307179587, 1.7),(6.183185307179587, 3.141592653589793),(6.183185307179587, 4.5),(6.183185307179587, 6.183185307179587)\n",
      "sheep has been catched: 25/25,init_states: (0, 0),(0, 1.7),(0, 3.141592653589793),(0, 4.5),(0, 6.183185307179587),(1.7, 0),(1.7, 1.7),(1.7, 3.141592653589793),(1.7, 4.5),(1.7, 6.183185307179587),(3.141592653589793, 0),(3.141592653589793, 1.7),(3.141592653589793, 3.141592653589793),(3.141592653589793, 4.5),(3.141592653589793, 6.183185307179587),(4.5, 0),(4.5, 1.7),(4.5, 3.141592653589793),(4.5, 4.5),(4.5, 6.183185307179587),(6.183185307179587, 0),(6.183185307179587, 1.7),(6.183185307179587, 3.141592653589793),(6.183185307179587, 4.5),(6.183185307179587, 6.183185307179587)\n",
      "sheep has been catched: 25/25,init_states: (0, 0),(0, 1.7),(0, 3.141592653589793),(0, 4.5),(0, 6.183185307179587),(1.7, 0),(1.7, 1.7),(1.7, 3.141592653589793),(1.7, 4.5),(1.7, 6.183185307179587),(3.141592653589793, 0),(3.141592653589793, 1.7),(3.141592653589793, 3.141592653589793),(3.141592653589793, 4.5),(3.141592653589793, 6.183185307179587),(4.5, 0),(4.5, 1.7),(4.5, 3.141592653589793),(4.5, 4.5),(4.5, 6.183185307179587),(6.183185307179587, 0),(6.183185307179587, 1.7),(6.183185307179587, 3.141592653589793),(6.183185307179587, 4.5),(6.183185307179587, 6.183185307179587)\n"
     ]
    },
    {
     "name": "stderr",
     "output_type": "stream",
     "text": [
      "进度条:   0%|          | 0/2000 [00:30<?, ?it/s]"
     ]
    },
    {
     "name": "stdout",
     "output_type": "stream",
     "text": [
      "sheep has been catched: 25/25,init_states: (0, 0),(0, 1.7),(0, 3.141592653589793),(0, 4.5),(0, 6.183185307179587),(1.7, 0),(1.7, 1.7),(1.7, 3.141592653589793),(1.7, 4.5),(1.7, 6.183185307179587),(3.141592653589793, 0),(3.141592653589793, 1.7),(3.141592653589793, 3.141592653589793),(3.141592653589793, 4.5),(3.141592653589793, 6.183185307179587),(4.5, 0),(4.5, 1.7),(4.5, 3.141592653589793),(4.5, 4.5),(4.5, 6.183185307179587),(6.183185307179587, 0),(6.183185307179587, 1.7),(6.183185307179587, 3.141592653589793),(6.183185307179587, 4.5),(6.183185307179587, 6.183185307179587)\n"
     ]
    },
    {
     "name": "stderr",
     "output_type": "stream",
     "text": [
      "\n"
     ]
    }
   ],
   "source": [
    "import time\n",
    "\n",
    "\n",
    "class BehaviorClone:\n",
    "    def __init__(self, state_dim, hidden_dim, action_dim, lr):\n",
    "        self.policy = PolicyNet(state_dim, hidden_dim, action_dim).to(device)\n",
    "        self.optimizer = torch.optim.Adam(self.policy.parameters(), lr=lr)\n",
    "\n",
    "    def learn(self, states, actions):\n",
    "        states = torch.tensor(states, dtype=torch.float).to(device)\n",
    "        actions = torch.tensor(\n",
    "            actions, dtype=torch.float).view(-1, 1).to(device)\n",
    "        mse_loss = F.mse_loss(self.policy(states), actions).float()\n",
    "        # print(mse_loss)\n",
    "\n",
    "        self.optimizer.zero_grad()\n",
    "        mse_loss.backward()\n",
    "        self.optimizer.step()\n",
    "\n",
    "    def take_action(self, state):\n",
    "        state = torch.tensor([state], dtype=torch.float).to(device)\n",
    "        action = self.policy(state).cpu().detach().numpy()\n",
    "        return action[0]\n",
    "\n",
    "\n",
    "def test_agent(agent, env, n_episode):\n",
    "    sheep_coor_test = [0, 1.7, np.pi, 4.5, 2*np.pi-0.1]\n",
    "    dog_theta_test = [0, 1.7, np.pi, 4.5, 2*np.pi-0.1]\n",
    "    specific_return_list = []\n",
    "    catched_num = 0\n",
    "    catch_init_state_list=[]\n",
    "    for s in sheep_coor_test:\n",
    "        for d in dog_theta_test:\n",
    "            env.reset()\n",
    "            env.sheep_polar_coor = np.array([env.sheep_v, s])\n",
    "            env.dog_theta = np.array([d])\n",
    "            episode_return = 0\n",
    "            for i in range(2000):\n",
    "                _st = env._get_obs_array()\n",
    "                _st[0] /= env.circle_R\n",
    "                action = agent.take_action(_st)[0]\n",
    "                _, reward, done, _, _ = env.step(action)\n",
    "                episode_return += reward\n",
    "                # print(_st, action, reward)\n",
    "                if done:\n",
    "                    break\n",
    "            specific_return_list.append(episode_return)\n",
    "            # print(\"s:{},d:{},最终得分：{}\".format(s, d, episode_return))\n",
    "            if reward < -900:\n",
    "                catched_num += 1\n",
    "                catch_init_state_list.append((s,d))\n",
    "    print(\"sheep has been catched: {}/{},init_states: {}\".format(len(sheep_coor_test)\n",
    "          * len(dog_theta_test), catched_num,\",\".join([str(i) for i in catch_init_state_list])))\n",
    "    if(catched_num==0):\n",
    "        torch.save(agent.policy.state_dict(),\"bc-\"+str(datetime.now().strftime(\"%Y-%m-%d-%H-%M-%S\")))\n",
    "    return np.mean(specific_return_list)\n",
    "\n",
    "\n",
    "torch.manual_seed(0)\n",
    "np.random.seed(0)\n",
    "\n",
    "lr = 5e-6\n",
    "env = SheepDogEnv(circle_R=350, sheep_v=30, dog_v=80,\n",
    "                  sec_split_n=5, store_mode=False, render_mode=False)\n",
    "# bc_agent = BehaviorClone(\n",
    "#     env.observation_space.shape[0], 128, env.action_space.shape[0], lr)\n",
    "n_iterations = 2000\n",
    "batch_size = 512\n",
    "test_returns = []\n",
    "\n",
    "with tqdm(total=n_iterations, desc=\"进度条\") as pbar:\n",
    "    for i in range(n_iterations):\n",
    "        sample_indices = np.random.randint(low=0,\n",
    "                                           high=expert_s.shape[0],\n",
    "                                           size=batch_size)\n",
    "        t1 = time.time()\n",
    "        bc_agent.learn(expert_s[sample_indices], expert_a[sample_indices])\n",
    "        if i > 900 and (i+1) % 200 == 0:\n",
    "            current_return = test_agent(bc_agent, env, 5)\n",
    "            test_returns.append(current_return)\n",
    "            # if (i + 1) % 100 == 0:\n",
    "            #     pbar.set_postfix(\n",
    "            #         {'return': '%.3f' % np.mean(test_returns[-10:])})\n",
    "        # pbar.update(1)\n"
   ]
  },
  {
   "cell_type": "code",
   "execution_count": null,
   "metadata": {},
   "outputs": [],
   "source": []
  },
  {
   "cell_type": "code",
   "execution_count": null,
   "metadata": {},
   "outputs": [],
   "source": []
  }
 ],
 "metadata": {
  "kernelspec": {
   "display_name": "rl",
   "language": "python",
   "name": "python3"
  },
  "language_info": {
   "codemirror_mode": {
    "name": "ipython",
    "version": 3
   },
   "file_extension": ".py",
   "mimetype": "text/x-python",
   "name": "python",
   "nbconvert_exporter": "python",
   "pygments_lexer": "ipython3",
   "version": "3.10.12"
  },
  "orig_nbformat": 4
 },
 "nbformat": 4,
 "nbformat_minor": 2
}
